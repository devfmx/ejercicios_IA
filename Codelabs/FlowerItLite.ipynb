{
  "nbformat": 4,
  "nbformat_minor": 0,
  "metadata": {
    "colab": {
      "name": "FlowerItLite.ipynb",
      "provenance": []
    },
    "kernelspec": {
      "name": "python3",
      "display_name": "Python 3"
    }
  },
  "cells": [
    {
      "cell_type": "markdown",
      "metadata": {
        "id": "CMdnUsf-zRQT",
        "colab_type": "text"
      },
      "source": [
        "Reconocer flores por medio del aprendizaje por transferencia"
      ]
    },
    {
      "cell_type": "code",
      "metadata": {
        "id": "HQrm_ZbSzWFw",
        "colab_type": "code",
        "colab": {}
      },
      "source": [
        "import tensorflow as tf\n",
        "assert tf.__version__.startswith('2')\n",
        "\n",
        "import os\n",
        "import numpy as np\n",
        "import matplotlib.pyplot as plt"
      ],
      "execution_count": null,
      "outputs": []
    },
    {
      "cell_type": "code",
      "metadata": {
        "id": "xAPyk-8QzsrJ",
        "colab_type": "code",
        "colab": {
          "base_uri": "https://localhost:8080/",
          "height": 37
        },
        "outputId": "e68e0ff3-a9d7-4b97-bc4b-f7f2680c62a6"
      },
      "source": [
        "tf.__version__"
      ],
      "execution_count": null,
      "outputs": [
        {
          "output_type": "execute_result",
          "data": {
            "application/vnd.google.colaboratory.intrinsic+json": {
              "type": "string"
            },
            "text/plain": [
              "'2.3.0'"
            ]
          },
          "metadata": {
            "tags": []
          },
          "execution_count": 2
        }
      ]
    },
    {
      "cell_type": "markdown",
      "metadata": {
        "id": "trjrO0dLzwGF",
        "colab_type": "text"
      },
      "source": [
        "**Configurar canalizacion de entrada**"
      ]
    },
    {
      "cell_type": "markdown",
      "metadata": {
        "id": "o28vzm5Kz88_",
        "colab_type": "text"
      },
      "source": [
        "Primero descargaremos el conjunto de datos de flores"
      ]
    },
    {
      "cell_type": "code",
      "metadata": {
        "id": "S1xRRekd0Cc1",
        "colab_type": "code",
        "colab": {
          "base_uri": "https://localhost:8080/",
          "height": 55
        },
        "outputId": "05de9e87-33cc-487c-f1b5-bd377308593f"
      },
      "source": [
        "_URL = \"https://storage.googleapis.com/download.tensorflow.org/example_images/flower_photos.tgz\"\n",
        "\n",
        "zip_file = tf.keras.utils.get_file(origin=_URL, \n",
        "                                   fname=\"flower_photos.tgz\", \n",
        "                                   extract=True)\n",
        "\n",
        "base_dir = os.path.join(os.path.dirname(zip_file), 'flower_photos')"
      ],
      "execution_count": null,
      "outputs": [
        {
          "output_type": "stream",
          "text": [
            "Downloading data from https://storage.googleapis.com/download.tensorflow.org/example_images/flower_photos.tgz\n",
            "228818944/228813984 [==============================] - 3s 0us/step\n"
          ],
          "name": "stdout"
        }
      ]
    },
    {
      "cell_type": "markdown",
      "metadata": {
        "id": "tPK1BiIL0x7a",
        "colab_type": "text"
      },
      "source": [
        "Usaremos ImageDataGenerator para cambiar la escala de las imágenes.\n",
        "\n",
        "Cree el generador de trenes y especifique dónde está el directorio del conjunto de datos del tren, el tamaño de la imagen y el tamaño del lote.\n",
        "\n",
        "Cree el generador de validación con un enfoque similar al del generador de trenes con el método flow_from_directory ()."
      ]
    },
    {
      "cell_type": "code",
      "metadata": {
        "id": "FGaJl4bR06ib",
        "colab_type": "code",
        "colab": {
          "base_uri": "https://localhost:8080/",
          "height": 55
        },
        "outputId": "fb16116d-958b-46ca-86cb-58bfb12d5080"
      },
      "source": [
        "\n",
        "IMAGE_SIZE = 224\n",
        "BATCH_SIZE = 64\n",
        "\n",
        "datagen = tf.keras.preprocessing.image.ImageDataGenerator(\n",
        "    rescale=1./255, \n",
        "    validation_split=0.2)\n",
        "\n",
        "train_generator = datagen.flow_from_directory(\n",
        "    base_dir,\n",
        "    target_size=(IMAGE_SIZE, IMAGE_SIZE),\n",
        "    batch_size=BATCH_SIZE, \n",
        "    subset='training')\n",
        "\n",
        "val_generator = datagen.flow_from_directory(\n",
        "    base_dir,\n",
        "    target_size=(IMAGE_SIZE, IMAGE_SIZE),\n",
        "    batch_size=BATCH_SIZE, \n",
        "    subset='validation')\n"
      ],
      "execution_count": null,
      "outputs": [
        {
          "output_type": "stream",
          "text": [
            "Found 2939 images belonging to 5 classes.\n",
            "Found 731 images belonging to 5 classes.\n"
          ],
          "name": "stdout"
        }
      ]
    },
    {
      "cell_type": "code",
      "metadata": {
        "id": "HPpCxW-21HaF",
        "colab_type": "code",
        "colab": {
          "base_uri": "https://localhost:8080/",
          "height": 36
        },
        "outputId": "a438522c-3bba-4b59-e544-16c5559d3da8"
      },
      "source": [
        "for image_batch, label_batch in train_generator:\n",
        "  break\n",
        "image_batch.shape, label_batch.shape"
      ],
      "execution_count": null,
      "outputs": [
        {
          "output_type": "execute_result",
          "data": {
            "text/plain": [
              "((64, 224, 224, 3), (64, 5))"
            ]
          },
          "metadata": {
            "tags": []
          },
          "execution_count": 6
        }
      ]
    },
    {
      "cell_type": "markdown",
      "metadata": {
        "id": "YTPYOQI51Dng",
        "colab_type": "text"
      },
      "source": [
        "Guarde las etiquetas en un archivo que se descargará más tarde."
      ]
    },
    {
      "cell_type": "code",
      "metadata": {
        "id": "69VMH6ag1O3U",
        "colab_type": "code",
        "colab": {
          "base_uri": "https://localhost:8080/",
          "height": 36
        },
        "outputId": "5fcbc3d7-a57d-4483-e880-b6f80c3f5727"
      },
      "source": [
        "print (train_generator.class_indices)\n",
        "\n",
        "labels = '\\n'.join(sorted(train_generator.class_indices.keys()))\n",
        "\n",
        "with open('labels.txt', 'w') as f:\n",
        "  f.write(labels)"
      ],
      "execution_count": null,
      "outputs": [
        {
          "output_type": "stream",
          "text": [
            "{'daisy': 0, 'dandelion': 1, 'roses': 2, 'sunflowers': 3, 'tulips': 4}\n"
          ],
          "name": "stdout"
        }
      ]
    },
    {
      "cell_type": "code",
      "metadata": {
        "id": "fAsYQyiW1Omd",
        "colab_type": "code",
        "colab": {
          "base_uri": "https://localhost:8080/",
          "height": 111
        },
        "outputId": "3e78e8a6-3e46-4072-8454-37a1d7e56280"
      },
      "source": [
        "!cat labels.txt"
      ],
      "execution_count": null,
      "outputs": [
        {
          "output_type": "stream",
          "text": [
            "daisy\n",
            "dandelion\n",
            "roses\n",
            "sunflowers\n",
            "tulips"
          ],
          "name": "stdout"
        }
      ]
    },
    {
      "cell_type": "markdown",
      "metadata": {
        "id": "l_S10QqJ3ita",
        "colab_type": "text"
      },
      "source": [
        "**Crea el modelo base a partir de convnets previamente entrenados**"
      ]
    },
    {
      "cell_type": "markdown",
      "metadata": {
        "id": "VKlY9faO3pBf",
        "colab_type": "text"
      },
      "source": [
        "Cree el modelo base a partir del modelo MobileNet V2 desarrollado en Google y entrenado previamente en el conjunto de datos ImageNet, un gran conjunto de datos de 1,4 millones de imágenes y 1000 clases de imágenes web.\n",
        "\n",
        "Primero, elija qué capa intermedia de MobileNet V2 se utilizará para la extracción de características. Una práctica común es utilizar la salida de la última capa antes de la operación de aplanar, la llamada \"capa de cuello de botella\". El razonamiento aquí es que las siguientes capas completamente conectadas estarán demasiado especializadas para la tarea en la que se entrenó la red y, por lo tanto, las características aprendidas por estas capas no serán muy útiles para una nueva tarea. Sin embargo, las características de los cuellos de botella conservan mucha generalidad.\n",
        "\n",
        "Creemos una instancia de un modelo MobileNet V2 precargado con pesos entrenados en ImageNet. Al especificar el include_top=Falseargumento, cargamos una red que no incluye las capas de clasificación en la parte superior, lo que es ideal para la extracción de características."
      ]
    },
    {
      "cell_type": "code",
      "metadata": {
        "id": "KIEI-XAx4wMV",
        "colab_type": "code",
        "colab": {}
      },
      "source": [
        "IMG_SHAPE = (IMAGE_SIZE, IMAGE_SIZE, 3)\n",
        "\n",
        "# Create the base model from the pre-trained model MobileNet V2\n",
        "base_model = tf.keras.applications.MobileNetV2(input_shape=IMG_SHAPE,\n",
        "                                              include_top=False, \n",
        "                                              weights='imagenet')"
      ],
      "execution_count": null,
      "outputs": []
    },
    {
      "cell_type": "markdown",
      "metadata": {
        "id": "vH5ZXYbi48yL",
        "colab_type": "text"
      },
      "source": [
        "**Extraccion de Caractericas**"
      ]
    },
    {
      "cell_type": "markdown",
      "metadata": {
        "id": "9hU7_GNY5bzX",
        "colab_type": "text"
      },
      "source": [
        "Congelará la base convolucional creada en el paso anterior y la usará como un extractor de características, agregará un clasificador encima y entrenará el clasificador de nivel superior.\n",
        "\n"
      ]
    },
    {
      "cell_type": "code",
      "metadata": {
        "id": "Q9dW8C1U5hPs",
        "colab_type": "code",
        "colab": {}
      },
      "source": [
        "base_model.trainable = False"
      ],
      "execution_count": null,
      "outputs": []
    },
    {
      "cell_type": "markdown",
      "metadata": {
        "id": "TSckzAAg5hqi",
        "colab_type": "text"
      },
      "source": [
        "Agregar un encabezado de clasificiacion"
      ]
    },
    {
      "cell_type": "code",
      "metadata": {
        "id": "vnIoNtnE5iQl",
        "colab_type": "code",
        "colab": {}
      },
      "source": [
        "model = tf.keras.Sequential([\n",
        "  base_model,\n",
        "  tf.keras.layers.Conv2D(32, 3, activation='relu'),\n",
        "  tf.keras.layers.Dropout(0.2),\n",
        "  tf.keras.layers.GlobalAveragePooling2D(),\n",
        "  tf.keras.layers.Dense(5, activation='softmax')\n",
        "])"
      ],
      "execution_count": null,
      "outputs": []
    },
    {
      "cell_type": "markdown",
      "metadata": {
        "id": "QlU-dtkT5sXK",
        "colab_type": "text"
      },
      "source": [
        "**Compilar el modelo**"
      ]
    },
    {
      "cell_type": "markdown",
      "metadata": {
        "id": "LAVASjwS59dq",
        "colab_type": "text"
      },
      "source": [
        "Debe compilar el modelo antes de entrenarlo. Dado que hay varias clases, utilice una pérdida de entropía cruzada categórica."
      ]
    },
    {
      "cell_type": "code",
      "metadata": {
        "id": "UbO-TH5l57Hf",
        "colab_type": "code",
        "colab": {}
      },
      "source": [
        "model.compile(optimizer=tf.keras.optimizers.Adam(), \n",
        "              loss='categorical_crossentropy', \n",
        "              metrics=['accuracy'])"
      ],
      "execution_count": null,
      "outputs": []
    },
    {
      "cell_type": "code",
      "metadata": {
        "id": "Zl2hubtt57mi",
        "colab_type": "code",
        "colab": {
          "base_uri": "https://localhost:8080/",
          "height": 353
        },
        "outputId": "859700b7-94b8-460d-83af-71a65eefd935"
      },
      "source": [
        "model.summary()"
      ],
      "execution_count": null,
      "outputs": [
        {
          "output_type": "stream",
          "text": [
            "Model: \"sequential\"\n",
            "_________________________________________________________________\n",
            "Layer (type)                 Output Shape              Param #   \n",
            "=================================================================\n",
            "mobilenetv2_1.00_224 (Functi (None, 7, 7, 1280)        2257984   \n",
            "_________________________________________________________________\n",
            "conv2d (Conv2D)              (None, 5, 5, 32)          368672    \n",
            "_________________________________________________________________\n",
            "dropout (Dropout)            (None, 5, 5, 32)          0         \n",
            "_________________________________________________________________\n",
            "global_average_pooling2d (Gl (None, 32)                0         \n",
            "_________________________________________________________________\n",
            "dense (Dense)                (None, 5)                 165       \n",
            "=================================================================\n",
            "Total params: 2,626,821\n",
            "Trainable params: 368,837\n",
            "Non-trainable params: 2,257,984\n",
            "_________________________________________________________________\n"
          ],
          "name": "stdout"
        }
      ]
    },
    {
      "cell_type": "code",
      "metadata": {
        "id": "P-5Kqm0F57Z6",
        "colab_type": "code",
        "colab": {
          "base_uri": "https://localhost:8080/",
          "height": 36
        },
        "outputId": "6897ea6f-63ff-4684-ef45-ef7cccfcfd8b"
      },
      "source": [
        "print('Number of trainable variables = {}'.format(len(model.trainable_variables)))"
      ],
      "execution_count": null,
      "outputs": [
        {
          "output_type": "stream",
          "text": [
            "Number of trainable variables = 4\n"
          ],
          "name": "stdout"
        }
      ]
    },
    {
      "cell_type": "markdown",
      "metadata": {
        "id": "tyo3pB_h6wxt",
        "colab_type": "text"
      },
      "source": [
        "**Entrenar el modelo**"
      ]
    },
    {
      "cell_type": "code",
      "metadata": {
        "id": "wPjU2RHv6xSp",
        "colab_type": "code",
        "colab": {
          "base_uri": "https://localhost:8080/",
          "height": 391
        },
        "outputId": "8bc9405e-ad4f-4dff-811d-700c7b4f69d3"
      },
      "source": [
        "epochs = 10\n",
        "\n",
        "history = model.fit(train_generator, \n",
        "                    steps_per_epoch=len(train_generator), \n",
        "                    epochs=epochs, \n",
        "                    validation_data=val_generator, \n",
        "                    validation_steps=len(val_generator))"
      ],
      "execution_count": null,
      "outputs": [
        {
          "output_type": "stream",
          "text": [
            "Epoch 1/10\n",
            "46/46 [==============================] - 128s 3s/step - loss: 0.7901 - accuracy: 0.7513 - val_loss: 0.3839 - val_accuracy: 0.8591\n",
            "Epoch 2/10\n",
            "46/46 [==============================] - 127s 3s/step - loss: 0.2715 - accuracy: 0.9075 - val_loss: 0.3715 - val_accuracy: 0.8577\n",
            "Epoch 3/10\n",
            "46/46 [==============================] - 127s 3s/step - loss: 0.1699 - accuracy: 0.9476 - val_loss: 0.3923 - val_accuracy: 0.8618\n",
            "Epoch 4/10\n",
            "46/46 [==============================] - 126s 3s/step - loss: 0.1182 - accuracy: 0.9650 - val_loss: 0.4074 - val_accuracy: 0.8577\n",
            "Epoch 5/10\n",
            "46/46 [==============================] - 130s 3s/step - loss: 0.0756 - accuracy: 0.9775 - val_loss: 0.4325 - val_accuracy: 0.8591\n",
            "Epoch 6/10\n",
            "46/46 [==============================] - 126s 3s/step - loss: 0.0458 - accuracy: 0.9905 - val_loss: 0.4498 - val_accuracy: 0.8673\n",
            "Epoch 7/10\n",
            "46/46 [==============================] - 128s 3s/step - loss: 0.0295 - accuracy: 0.9952 - val_loss: 0.4482 - val_accuracy: 0.8659\n",
            "Epoch 8/10\n",
            "46/46 [==============================] - 127s 3s/step - loss: 0.0241 - accuracy: 0.9969 - val_loss: 0.4909 - val_accuracy: 0.8550\n",
            "Epoch 9/10\n",
            "46/46 [==============================] - 126s 3s/step - loss: 0.0170 - accuracy: 0.9986 - val_loss: 0.5073 - val_accuracy: 0.8591\n",
            "Epoch 10/10\n",
            "46/46 [==============================] - 129s 3s/step - loss: 0.0132 - accuracy: 0.9986 - val_loss: 0.5231 - val_accuracy: 0.8659\n"
          ],
          "name": "stdout"
        }
      ]
    },
    {
      "cell_type": "markdown",
      "metadata": {
        "id": "IfxKFdES67A3",
        "colab_type": "text"
      },
      "source": [
        "**Curvas de Aprendizaje**"
      ]
    },
    {
      "cell_type": "markdown",
      "metadata": {
        "id": "wSrs7Imu68eK",
        "colab_type": "text"
      },
      "source": [
        "Echemos un vistazo a las curvas de aprendizaje de la precisión / pérdida de entrenamiento y validación cuando se utiliza el modelo base de MobileNet V2 como extractor de funciones fijas."
      ]
    },
    {
      "cell_type": "code",
      "metadata": {
        "id": "cbv8e5tK69U5",
        "colab_type": "code",
        "colab": {
          "base_uri": "https://localhost:8080/",
          "height": 513
        },
        "outputId": "64eaf754-b8b9-485d-bebf-e6ba4eca7277"
      },
      "source": [
        "acc = history.history['accuracy']\n",
        "val_acc = history.history['val_accuracy']\n",
        "\n",
        "loss = history.history['loss']\n",
        "val_loss = history.history['val_loss']\n",
        "\n",
        "plt.figure(figsize=(8, 8))\n",
        "plt.subplot(2, 1, 1)\n",
        "plt.plot(acc, label='Training Accuracy')\n",
        "plt.plot(val_acc, label='Validation Accuracy')\n",
        "plt.legend(loc='lower right')\n",
        "plt.ylabel('Accuracy')\n",
        "plt.ylim([min(plt.ylim()),1])\n",
        "plt.title('Training and Validation Accuracy')\n",
        "\n",
        "plt.subplot(2, 1, 2)\n",
        "plt.plot(loss, label='Training Loss')\n",
        "plt.plot(val_loss, label='Validation Loss')\n",
        "plt.legend(loc='upper right')\n",
        "plt.ylabel('Cross Entropy')\n",
        "plt.ylim([0,1.0])\n",
        "plt.title('Training and Validation Loss')\n",
        "plt.xlabel('epoch')\n",
        "plt.show()"
      ],
      "execution_count": null,
      "outputs": [
        {
          "output_type": "display_data",
          "data": {
            "image/png": "[encoded data removed]",
            "text/plain": [
              "<Figure size 576x576 with 2 Axes>"
            ]
          },
          "metadata": {
            "tags": [],
            "needs_background": "light"
          }
        }
      ]
    },
    {
      "cell_type": "markdown",
      "metadata": {
        "id": "-r6yrR0I7uL9",
        "colab_type": "text"
      },
      "source": [
        "**Sintonia FINA**"
      ]
    },
    {
      "cell_type": "markdown",
      "metadata": {
        "id": "tFOPnyw67tja",
        "colab_type": "text"
      },
      "source": [
        "En nuestro experimento de extracción de funciones, solo estaba entrenando algunas capas sobre un modelo base de MobileNet V2. Los pesos de la red preentrenada no se actualizaron durante el entrenamiento.\n",
        "\n",
        "Una forma de aumentar aún más el rendimiento es entrenar (o \"ajustar\") los pesos de las capas superiores del modelo previamente entrenado junto con el entrenamiento del clasificador que agregó. El proceso de entrenamiento obligará a ajustar los pesos de los mapas de características genéricas a las características asociadas específicamente a nuestro conjunto de datos."
      ]
    },
    {
      "cell_type": "markdown",
      "metadata": {
        "id": "EBe0kRl18XzH",
        "colab_type": "text"
      },
      "source": [
        "**DEsconegele las capas superiores del modelo**"
      ]
    },
    {
      "cell_type": "markdown",
      "metadata": {
        "id": "C4V4U1Pf8XgB",
        "colab_type": "text"
      },
      "source": [
        "Todo lo que necesita hacer es descongelar base_modely configurar las capas inferiores para que no se puedan entrenar. Luego, vuelva a compilar el modelo (necesario para que estos cambios surtan efecto) y reanude el entrenamiento."
      ]
    },
    {
      "cell_type": "code",
      "metadata": {
        "id": "486egKVd8lwU",
        "colab_type": "code",
        "colab": {}
      },
      "source": [
        "base_model.trainable = True"
      ],
      "execution_count": null,
      "outputs": []
    },
    {
      "cell_type": "code",
      "metadata": {
        "id": "QiVyOvOx8mXU",
        "colab_type": "code",
        "colab": {
          "base_uri": "https://localhost:8080/",
          "height": 36
        },
        "outputId": "5d8737c4-7981-4b4f-a690-127bda02b898"
      },
      "source": [
        "# Let's take a look to see how many layers are in the base model\n",
        "print(\"Number of layers in the base model: \", len(base_model.layers))\n",
        "\n",
        "# Fine tune from this layer onwards\n",
        "fine_tune_at = 100\n",
        "\n",
        "# Freeze all the layers before the `fine_tune_at` layer\n",
        "for layer in base_model.layers[:fine_tune_at]:\n",
        "  layer.trainable =  False"
      ],
      "execution_count": null,
      "outputs": [
        {
          "output_type": "stream",
          "text": [
            "Number of layers in the base model:  155\n"
          ],
          "name": "stdout"
        }
      ]
    },
    {
      "cell_type": "markdown",
      "metadata": {
        "id": "ih3LjqDQ8xgC",
        "colab_type": "text"
      },
      "source": [
        "**Compilar el modelo**"
      ]
    },
    {
      "cell_type": "markdown",
      "metadata": {
        "id": "iZD2l8h88xRS",
        "colab_type": "text"
      },
      "source": [
        "Compile el modelo usando una tasa de entrenamiento mucho menor."
      ]
    },
    {
      "cell_type": "code",
      "metadata": {
        "id": "ss-Dmh5D8yNL",
        "colab_type": "code",
        "colab": {}
      },
      "source": [
        "\n",
        "model.compile(loss='categorical_crossentropy',\n",
        "              optimizer = tf.keras.optimizers.Adam(1e-5),\n",
        "              metrics=['accuracy'])\n",
        "\n"
      ],
      "execution_count": null,
      "outputs": []
    },
    {
      "cell_type": "code",
      "metadata": {
        "id": "j77ROZ_E8zTA",
        "colab_type": "code",
        "colab": {
          "base_uri": "https://localhost:8080/",
          "height": 353
        },
        "outputId": "704a74ce-c3d3-46cb-9af6-58e0532d1c0d"
      },
      "source": [
        "model.summary()"
      ],
      "execution_count": null,
      "outputs": [
        {
          "output_type": "stream",
          "text": [
            "Model: \"sequential\"\n",
            "_________________________________________________________________\n",
            "Layer (type)                 Output Shape              Param #   \n",
            "=================================================================\n",
            "mobilenetv2_1.00_224 (Functi (None, 7, 7, 1280)        2257984   \n",
            "_________________________________________________________________\n",
            "conv2d (Conv2D)              (None, 5, 5, 32)          368672    \n",
            "_________________________________________________________________\n",
            "dropout (Dropout)            (None, 5, 5, 32)          0         \n",
            "_________________________________________________________________\n",
            "global_average_pooling2d (Gl (None, 32)                0         \n",
            "_________________________________________________________________\n",
            "dense (Dense)                (None, 5)                 165       \n",
            "=================================================================\n",
            "Total params: 2,626,821\n",
            "Trainable params: 2,231,429\n",
            "Non-trainable params: 395,392\n",
            "_________________________________________________________________\n"
          ],
          "name": "stdout"
        }
      ]
    },
    {
      "cell_type": "code",
      "metadata": {
        "id": "eOw0ACln8y3a",
        "colab_type": "code",
        "colab": {
          "base_uri": "https://localhost:8080/",
          "height": 36
        },
        "outputId": "30e992c1-321a-4494-c4ad-e09b6f3a03ae"
      },
      "source": [
        "print('Number of trainable variables = {}'.format(len(model.trainable_variables)))"
      ],
      "execution_count": null,
      "outputs": [
        {
          "output_type": "stream",
          "text": [
            "Number of trainable variables = 60\n"
          ],
          "name": "stdout"
        }
      ]
    },
    {
      "cell_type": "markdown",
      "metadata": {
        "id": "kri1HlTs9Xwi",
        "colab_type": "text"
      },
      "source": [
        "**Continuar el entreno**"
      ]
    },
    {
      "cell_type": "code",
      "metadata": {
        "id": "HYni3hC69YSI",
        "colab_type": "code",
        "colab": {
          "base_uri": "https://localhost:8080/",
          "height": 204
        },
        "outputId": "9623de06-a6df-47e1-f92c-587f9f7a36b8"
      },
      "source": [
        "history_fine = model.fit(train_generator, \n",
        "                         steps_per_epoch=len(train_generator), \n",
        "                         epochs=5, \n",
        "                         validation_data=val_generator, \n",
        "                         validation_steps=len(val_generator))"
      ],
      "execution_count": null,
      "outputs": [
        {
          "output_type": "stream",
          "text": [
            "Epoch 1/5\n",
            "46/46 [==============================] - 223s 5s/step - loss: 0.4127 - accuracy: 0.8622 - val_loss: 0.5359 - val_accuracy: 0.8577\n",
            "Epoch 2/5\n",
            "46/46 [==============================] - 220s 5s/step - loss: 0.2069 - accuracy: 0.9292 - val_loss: 0.5586 - val_accuracy: 0.8646\n",
            "Epoch 3/5\n",
            "46/46 [==============================] - 222s 5s/step - loss: 0.1418 - accuracy: 0.9507 - val_loss: 0.5616 - val_accuracy: 0.8673\n",
            "Epoch 4/5\n",
            "46/46 [==============================] - 219s 5s/step - loss: 0.1069 - accuracy: 0.9646 - val_loss: 0.5574 - val_accuracy: 0.8673\n",
            "Epoch 5/5\n",
            "46/46 [==============================] - 222s 5s/step - loss: 0.0754 - accuracy: 0.9772 - val_loss: 0.5470 - val_accuracy: 0.8687\n"
          ],
          "name": "stdout"
        }
      ]
    },
    {
      "cell_type": "markdown",
      "metadata": {
        "id": "l5oDBjmj9ZRA",
        "colab_type": "text"
      },
      "source": [
        "**Convierta a TFLite**\n",
        "\n"
      ]
    },
    {
      "cell_type": "markdown",
      "metadata": {
        "id": "_8QWwcq99Y6p",
        "colab_type": "text"
      },
      "source": [
        "Guarde el modelo usando tf.saved_model.savey luego convierta el modelo guardado a un formato compatible con tf lite."
      ]
    },
    {
      "cell_type": "code",
      "metadata": {
        "id": "DX9bsbsX9oNT",
        "colab_type": "code",
        "colab": {
          "base_uri": "https://localhost:8080/",
          "height": 168
        },
        "outputId": "47e0784d-a336-48ef-ef6a-e2668bc06577"
      },
      "source": [
        "saved_model_dir = 'save/fine_tuning'\n",
        "tf.saved_model.save(model, saved_model_dir)\n",
        "\n",
        "converter = tf.lite.TFLiteConverter.from_saved_model(saved_model_dir)\n",
        "tflite_model = converter.convert()\n",
        "\n",
        "with open('model.tflite', 'wb') as f:\n",
        "  f.write(tflite_model)"
      ],
      "execution_count": null,
      "outputs": [
        {
          "output_type": "stream",
          "text": [
            "WARNING:tensorflow:From /usr/local/lib/python3.6/dist-packages/tensorflow/python/training/tracking/tracking.py:111: Model.state_updates (from tensorflow.python.keras.engine.training) is deprecated and will be removed in a future version.\n",
            "Instructions for updating:\n",
            "This property should not be used in TensorFlow 2.0, as updates are applied automatically.\n",
            "WARNING:tensorflow:From /usr/local/lib/python3.6/dist-packages/tensorflow/python/training/tracking/tracking.py:111: Layer.updates (from tensorflow.python.keras.engine.base_layer) is deprecated and will be removed in a future version.\n",
            "Instructions for updating:\n",
            "This property should not be used in TensorFlow 2.0, as updates are applied automatically.\n",
            "INFO:tensorflow:Assets written to: save/fine_tuning/assets\n"
          ],
          "name": "stdout"
        }
      ]
    },
    {
      "cell_type": "markdown",
      "metadata": {
        "id": "QdUYysuA9v01",
        "colab_type": "text"
      },
      "source": [
        "Descarga el modelo y las etiquetas convertidos"
      ]
    },
    {
      "cell_type": "code",
      "metadata": {
        "id": "ZMNtgMpA9wTn",
        "colab_type": "code",
        "colab": {
          "base_uri": "https://localhost:8080/",
          "height": 17
        },
        "outputId": "b2dbd6ea-6e20-4301-8fb8-2ac16631236b"
      },
      "source": [
        "from google.colab import files\n",
        "\n",
        "files.download('model.tflite')\n",
        "files.download('labels.txt')"
      ],
      "execution_count": null,
      "outputs": [
        {
          "output_type": "display_data",
          "data": {
            "application/javascript": [
              "\n",
              "    async function download(id, filename, size) {\n",
              "      if (!google.colab.kernel.accessAllowed) {\n",
              "        return;\n",
              "      }\n",
              "      const div = document.createElement('div');\n",
              "      const label = document.createElement('label');\n",
              "      label.textContent = `Downloading \"${filename}\": `;\n",
              "      div.appendChild(label);\n",
              "      const progress = document.createElement('progress');\n",
              "      progress.max = size;\n",
              "      div.appendChild(progress);\n",
              "      document.body.appendChild(div);\n",
              "\n",
              "      const buffers = [];\n",
              "      let downloaded = 0;\n",
              "\n",
              "      const channel = await google.colab.kernel.comms.open(id);\n",
              "      // Send a message to notify the kernel that we're ready.\n",
              "      channel.send({})\n",
              "\n",
              "      for await (const message of channel.messages) {\n",
              "        // Send a message to notify the kernel that we're ready.\n",
              "        channel.send({})\n",
              "        if (message.buffers) {\n",
              "          for (const buffer of message.buffers) {\n",
              "            buffers.push(buffer);\n",
              "            downloaded += buffer.byteLength;\n",
              "            progress.value = downloaded;\n",
              "          }\n",
              "        }\n",
              "      }\n",
              "      const blob = new Blob(buffers, {type: 'application/binary'});\n",
              "      const a = document.createElement('a');\n",
              "      a.href = window.URL.createObjectURL(blob);\n",
              "      a.download = filename;\n",
              "      div.appendChild(a);\n",
              "      a.click();\n",
              "      div.remove();\n",
              "    }\n",
              "  "
            ],
            "text/plain": [
              "<IPython.core.display.Javascript object>"
            ]
          },
          "metadata": {
            "tags": []
          }
        },
        {
          "output_type": "display_data",
          "data": {
            "application/javascript": [
              "download(\"download_49778702-febb-4466-8df9-51f233002d45\", \"model.tflite\", 10377116)"
            ],
            "text/plain": [
              "<IPython.core.display.Javascript object>"
            ]
          },
          "metadata": {
            "tags": []
          }
        },
        {
          "output_type": "display_data",
          "data": {
            "application/javascript": [
              "\n",
              "    async function download(id, filename, size) {\n",
              "      if (!google.colab.kernel.accessAllowed) {\n",
              "        return;\n",
              "      }\n",
              "      const div = document.createElement('div');\n",
              "      const label = document.createElement('label');\n",
              "      label.textContent = `Downloading \"${filename}\": `;\n",
              "      div.appendChild(label);\n",
              "      const progress = document.createElement('progress');\n",
              "      progress.max = size;\n",
              "      div.appendChild(progress);\n",
              "      document.body.appendChild(div);\n",
              "\n",
              "      const buffers = [];\n",
              "      let downloaded = 0;\n",
              "\n",
              "      const channel = await google.colab.kernel.comms.open(id);\n",
              "      // Send a message to notify the kernel that we're ready.\n",
              "      channel.send({})\n",
              "\n",
              "      for await (const message of channel.messages) {\n",
              "        // Send a message to notify the kernel that we're ready.\n",
              "        channel.send({})\n",
              "        if (message.buffers) {\n",
              "          for (const buffer of message.buffers) {\n",
              "            buffers.push(buffer);\n",
              "            downloaded += buffer.byteLength;\n",
              "            progress.value = downloaded;\n",
              "          }\n",
              "        }\n",
              "      }\n",
              "      const blob = new Blob(buffers, {type: 'application/binary'});\n",
              "      const a = document.createElement('a');\n",
              "      a.href = window.URL.createObjectURL(blob);\n",
              "      a.download = filename;\n",
              "      div.appendChild(a);\n",
              "      a.click();\n",
              "      div.remove();\n",
              "    }\n",
              "  "
            ],
            "text/plain": [
              "<IPython.core.display.Javascript object>"
            ]
          },
          "metadata": {
            "tags": []
          }
        },
        {
          "output_type": "display_data",
          "data": {
            "application/javascript": [
              "download(\"download_9b771c52-b9ed-4d85-8255-4ae3b93e2035\", \"labels.txt\", 39)"
            ],
            "text/plain": [
              "<IPython.core.display.Javascript object>"
            ]
          },
          "metadata": {
            "tags": []
          }
        }
      ]
    },
    {
      "cell_type": "markdown",
      "metadata": {
        "id": "owyrJ3mV93W3",
        "colab_type": "text"
      },
      "source": [
        "Echemos un vistazo a las curvas de aprendizaje de la precisión / pérdida de entrenamiento y validación, al ajustar las últimas capas del modelo base de MobileNet V2 y capacitar al clasificador sobre él. La pérdida de validación es mucho mayor que la pérdida de entrenamiento, por lo que puede sufrir un sobreajuste.\n",
        "\n",
        "También puede obtener un ajuste excesivo, ya que el nuevo conjunto de entrenamiento es relativamente pequeño y similar a los conjuntos de datos originales de MobileNet V2."
      ]
    },
    {
      "cell_type": "code",
      "metadata": {
        "id": "0kRJgr7y98Vw",
        "colab_type": "code",
        "colab": {
          "base_uri": "https://localhost:8080/",
          "height": 513
        },
        "outputId": "daf54e9d-9ff1-4d69-a586-57bac7f5c0d7"
      },
      "source": [
        "acc = history_fine.history['accuracy']\n",
        "val_acc = history_fine.history['val_accuracy']\n",
        "\n",
        "loss = history_fine.history['loss']\n",
        "val_loss = history_fine.history['val_loss']\n",
        "\n",
        "plt.figure(figsize=(8, 8))\n",
        "plt.subplot(2, 1, 1)\n",
        "plt.plot(acc, label='Training Accuracy')\n",
        "plt.plot(val_acc, label='Validation Accuracy')\n",
        "plt.legend(loc='lower right')\n",
        "plt.ylabel('Accuracy')\n",
        "plt.ylim([min(plt.ylim()),1])\n",
        "plt.title('Training and Validation Accuracy')\n",
        "\n",
        "plt.subplot(2, 1, 2)\n",
        "plt.plot(loss, label='Training Loss')\n",
        "plt.plot(val_loss, label='Validation Loss')\n",
        "plt.legend(loc='upper right')\n",
        "plt.ylabel('Cross Entropy')\n",
        "plt.ylim([0,1.0])\n",
        "plt.title('Training and Validation Loss')\n",
        "plt.xlabel('epoch')\n",
        "plt.show()"
      ],
      "execution_count": null,
      "outputs": [
        {
          "output_type": "display_data",
          "data": {
            "image/png": "[encoded data removed]",
            "text/plain": [
              "<Figure size 576x576 with 2 Axes>"
            ]
          },
          "metadata": {
            "tags": [],
            "needs_background": "light"
          }
        }
      ]
    },
    {
      "cell_type": "markdown",
      "metadata": {
        "id": "4JY8MWyO967F",
        "colab_type": "text"
      },
      "source": [
        "**Resumen**"
      ]
    },
    {
      "cell_type": "markdown",
      "metadata": {
        "id": "tBuxG53__1sR",
        "colab_type": "text"
      },
      "source": [
        "\n",
        "\n",
        "*   Uso de un modelo previamente entrenado para la extracción de características : cuando se trabaja con un conjunto de datos pequeño, es común aprovechar las características aprendidas por un modelo entrenado en un conjunto de datos más grande en el mismo dominio. Esto se hace creando una instancia del modelo previamente entrenado y agregando un clasificador completamente conectado en la parte superior. El modelo preentrenado se \"congela\" y solo los pesos del clasificador se actualizan durante el entrenamiento. En este caso, la base convolucional extrajo todas las características asociadas con cada imagen y usted solo entrenó un clasificador que determina la clase de imagen dado ese conjunto de características extraídas.\n",
        "*   Ajuste de un modelo previamente entrenado : para mejorar aún más el rendimiento, es posible que desee reutilizar las capas de nivel superior de los modelos previamente entrenados para el nuevo conjunto de datos mediante un ajuste fino. En este caso, ajustó sus pesos de manera que su modelo aprendiera características de alto nivel específicas del conjunto de datos. Esta técnica generalmente se recomienda cuando el conjunto de datos de entrenamiento es grande y muy similar al conjunto de datos original en el que se entrenó el modelo previamente entrenado."
      ]
    }
  ]
}