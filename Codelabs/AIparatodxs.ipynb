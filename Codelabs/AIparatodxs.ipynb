{
  "nbformat": 4,
  "nbformat_minor": 0,
  "metadata": {
    "colab": {
      "name": "AIparatodxs.ipynb",
      "provenance": []
    },
    "kernelspec": {
      "name": "python3",
      "display_name": "Python 3"
    }
  },
  "cells": [
    {
      "cell_type": "markdown",
      "metadata": {
        "id": "TIcv7OO7AwCj",
        "colab_type": "text"
      },
      "source": [
        "## **Reconoce imagenes de flores con TensorFlow Lite**\n",
        "\n",
        "Para comenzar, debemos instalar el \"Model Maker\" una libreria que usaremos para este ejercicio desde el repositorio de GitHub\n"
      ]
    },
    {
      "cell_type": "code",
      "metadata": {
        "id": "5K2Df4yFbn6A",
        "colab_type": "code",
        "colab": {
          "base_uri": "https://localhost:8080/",
          "height": 1000
        },
        "outputId": "4a2f4af9-72b5-4c52-cf48-d1f03d824756"
      },
      "source": [
        "!pip install git+git://github.com/tensorflow/examples.git#egg=tensorflow-examples[model_maker]"
      ],
      "execution_count": null,
      "outputs": [
        {
          "output_type": "stream",
          "text": [
            "Collecting tensorflow-examples[model_maker]\n",
            "  Cloning git://github.com/tensorflow/examples.git to /tmp/pip-install-kq8xtqa2/tensorflow-examples\n",
            "  Running command git clone -q git://github.com/tensorflow/examples.git /tmp/pip-install-kq8xtqa2/tensorflow-examples\n",
            "Requirement already satisfied: absl-py in /usr/local/lib/python3.6/dist-packages (from tensorflow-examples[model_maker]) (0.9.0)\n",
            "Requirement already satisfied: six in /usr/local/lib/python3.6/dist-packages (from tensorflow-examples[model_maker]) (1.15.0)\n",
            "Collecting tf-nightly\n",
            "\u001b[?25l  Downloading https://files.pythonhosted.org/packages/ea/7d/e965eb3aed0762c8e6e8b029d421b18bd9f9990d64ec9393754bace531ea/tf_nightly-2.4.0.dev20200813-cp36-cp36m-manylinux2010_x86_64.whl (325.3MB)\n",
            "\u001b[K     |████████████████████████████████| 325.3MB 46kB/s \n",
            "\u001b[?25hCollecting tf-models-nightly\n",
            "\u001b[?25l  Downloading https://files.pythonhosted.org/packages/64/f8/9d1aca19ebec1320347b65bd12186915dda09884ec37478656be10e7efc3/tf_models_nightly-2.3.0.dev20200814-py2.py3-none-any.whl (902kB)\n",
            "\u001b[K     |████████████████████████████████| 911kB 46.6MB/s \n",
            "\u001b[?25hRequirement already satisfied: tensorflow-hub>=0.8.0 in /usr/local/lib/python3.6/dist-packages (from tensorflow-examples[model_maker]) (0.8.0)\n",
            "Requirement already satisfied: numpy>=1.17.3 in /usr/local/lib/python3.6/dist-packages (from tensorflow-examples[model_maker]) (1.18.5)\n",
            "Requirement already satisfied: pillow in /usr/local/lib/python3.6/dist-packages (from tensorflow-examples[model_maker]) (7.0.0)\n",
            "Collecting sentencepiece\n",
            "\u001b[?25l  Downloading https://files.pythonhosted.org/packages/d4/a4/d0a884c4300004a78cca907a6ff9a5e9fe4f090f5d95ab341c53d28cbc58/sentencepiece-0.1.91-cp36-cp36m-manylinux1_x86_64.whl (1.1MB)\n",
            "\u001b[K     |████████████████████████████████| 1.1MB 41.3MB/s \n",
            "\u001b[?25hRequirement already satisfied: tensorflow-datasets>=2.1.0 in /usr/local/lib/python3.6/dist-packages (from tensorflow-examples[model_maker]) (2.1.0)\n",
            "Collecting fire\n",
            "\u001b[?25l  Downloading https://files.pythonhosted.org/packages/34/a7/0e22e70778aca01a52b9c899d9c145c6396d7b613719cd63db97ffa13f2f/fire-0.3.1.tar.gz (81kB)\n",
            "\u001b[K     |████████████████████████████████| 81kB 8.4MB/s \n",
            "\u001b[?25hCollecting flatbuffers==1.12\n",
            "  Downloading https://files.pythonhosted.org/packages/eb/26/712e578c5f14e26ae3314c39a1bdc4eb2ec2f4ddc89b708cf8e0a0d20423/flatbuffers-1.12-py2.py3-none-any.whl\n",
            "Collecting tflite-support==0.1.0a0\n",
            "\u001b[?25l  Downloading https://files.pythonhosted.org/packages/d9/9d/17cb77f9c20fb5405982e3c885673c8acfb6e52ec5e3b738cb3090de125e/tflite-support-0.1.0a0.tar.gz (258kB)\n",
            "\u001b[K     |████████████████████████████████| 266kB 41.0MB/s \n",
            "\u001b[?25hRequirement already satisfied: astunparse==1.6.3 in /usr/local/lib/python3.6/dist-packages (from tf-nightly->tensorflow-examples[model_maker]) (1.6.3)\n",
            "Requirement already satisfied: h5py<2.11.0,>=2.10.0 in /usr/local/lib/python3.6/dist-packages (from tf-nightly->tensorflow-examples[model_maker]) (2.10.0)\n",
            "Requirement already satisfied: protobuf>=3.9.2 in /usr/local/lib/python3.6/dist-packages (from tf-nightly->tensorflow-examples[model_maker]) (3.12.4)\n",
            "Collecting tf-estimator-nightly\n",
            "\u001b[?25l  Downloading https://files.pythonhosted.org/packages/c2/b3/e8e55436aa0b9aa28c37f506cbb95117ce076f88923d7dc2b74c3a587fec/tf_estimator_nightly-2.4.0.dev2020081401-py2.py3-none-any.whl (459kB)\n",
            "\u001b[K     |████████████████████████████████| 460kB 43.6MB/s \n",
            "\u001b[?25hRequirement already satisfied: termcolor>=1.1.0 in /usr/local/lib/python3.6/dist-packages (from tf-nightly->tensorflow-examples[model_maker]) (1.1.0)\n",
            "Requirement already satisfied: google-pasta>=0.1.8 in /usr/local/lib/python3.6/dist-packages (from tf-nightly->tensorflow-examples[model_maker]) (0.2.0)\n",
            "Requirement already satisfied: opt-einsum>=2.3.2 in /usr/local/lib/python3.6/dist-packages (from tf-nightly->tensorflow-examples[model_maker]) (3.3.0)\n",
            "Requirement already satisfied: grpcio>=1.8.6 in /usr/local/lib/python3.6/dist-packages (from tf-nightly->tensorflow-examples[model_maker]) (1.31.0)\n",
            "Requirement already satisfied: keras-preprocessing<1.2,>=1.1.1 in /usr/local/lib/python3.6/dist-packages (from tf-nightly->tensorflow-examples[model_maker]) (1.1.2)\n",
            "Requirement already satisfied: wrapt>=1.11.1 in /usr/local/lib/python3.6/dist-packages (from tf-nightly->tensorflow-examples[model_maker]) (1.12.1)\n",
            "Requirement already satisfied: gast==0.3.3 in /usr/local/lib/python3.6/dist-packages (from tf-nightly->tensorflow-examples[model_maker]) (0.3.3)\n",
            "Requirement already satisfied: wheel>=0.26 in /usr/local/lib/python3.6/dist-packages (from tf-nightly->tensorflow-examples[model_maker]) (0.34.2)\n",
            "Collecting tb-nightly<3.0.0a0,>=2.4.0a0\n",
            "\u001b[?25l  Downloading https://files.pythonhosted.org/packages/2e/b6/d994e92d0af7de5b5857058d446e78d24bb1ca6aa5f9b2483a2828d44333/tb_nightly-2.4.0a20200814-py3-none-any.whl (13.1MB)\n",
            "\u001b[K     |████████████████████████████████| 13.1MB 270kB/s \n",
            "\u001b[?25hRequirement already satisfied: gin-config in /usr/local/lib/python3.6/dist-packages (from tf-models-nightly->tensorflow-examples[model_maker]) (0.3.0)\n",
            "Requirement already satisfied: dataclasses in /usr/local/lib/python3.6/dist-packages (from tf-models-nightly->tensorflow-examples[model_maker]) (0.7)\n",
            "Collecting seqeval\n",
            "  Downloading https://files.pythonhosted.org/packages/34/91/068aca8d60ce56dd9ba4506850e876aba5e66a6f2f29aa223224b50df0de/seqeval-0.0.12.tar.gz\n",
            "Collecting tf-slim>=1.1.0\n",
            "\u001b[?25l  Downloading https://files.pythonhosted.org/packages/02/97/b0f4a64df018ca018cc035d44f2ef08f91e2e8aa67271f6f19633a015ff7/tf_slim-1.1.0-py2.py3-none-any.whl (352kB)\n",
            "\u001b[K     |████████████████████████████████| 358kB 27.7MB/s \n",
            "\u001b[?25hRequirement already satisfied: pandas>=0.22.0 in /usr/local/lib/python3.6/dist-packages (from tf-models-nightly->tensorflow-examples[model_maker]) (1.0.5)\n",
            "Requirement already satisfied: Cython in /usr/local/lib/python3.6/dist-packages (from tf-models-nightly->tensorflow-examples[model_maker]) (0.29.21)\n",
            "Requirement already satisfied: pyyaml in /usr/local/lib/python3.6/dist-packages (from tf-models-nightly->tensorflow-examples[model_maker]) (3.13)\n",
            "Requirement already satisfied: google-api-python-client>=1.6.7 in /usr/local/lib/python3.6/dist-packages (from tf-models-nightly->tensorflow-examples[model_maker]) (1.7.12)\n",
            "Requirement already satisfied: psutil>=5.4.3 in /usr/local/lib/python3.6/dist-packages (from tf-models-nightly->tensorflow-examples[model_maker]) (5.4.8)\n",
            "Requirement already satisfied: oauth2client in /usr/local/lib/python3.6/dist-packages (from tf-models-nightly->tensorflow-examples[model_maker]) (4.1.3)\n",
            "Requirement already satisfied: matplotlib in /usr/local/lib/python3.6/dist-packages (from tf-models-nightly->tensorflow-examples[model_maker]) (3.2.2)\n",
            "Collecting py-cpuinfo>=3.3.0\n",
            "\u001b[?25l  Downloading https://files.pythonhosted.org/packages/f6/f5/8e6e85ce2e9f6e05040cf0d4e26f43a4718bcc4bce988b433276d4b1a5c1/py-cpuinfo-7.0.0.tar.gz (95kB)\n",
            "\u001b[K     |████████████████████████████████| 102kB 11.4MB/s \n",
            "\u001b[?25hCollecting opencv-python-headless\n",
            "\u001b[?25l  Downloading https://files.pythonhosted.org/packages/35/7b/628da8b9f91342432a9432d900d5e2771c387969430e7d4a513dc6dd7804/opencv_python_headless-4.4.0.40-cp36-cp36m-manylinux2014_x86_64.whl (36.6MB)\n",
            "\u001b[K     |████████████████████████████████| 36.6MB 120kB/s \n",
            "\u001b[?25hRequirement already satisfied: scipy>=0.19.1 in /usr/local/lib/python3.6/dist-packages (from tf-models-nightly->tensorflow-examples[model_maker]) (1.4.1)\n",
            "Requirement already satisfied: pycocotools in /usr/local/lib/python3.6/dist-packages (from tf-models-nightly->tensorflow-examples[model_maker]) (2.0.1)\n",
            "Collecting tensorflow-model-optimization>=0.2.1\n",
            "\u001b[?25l  Downloading https://files.pythonhosted.org/packages/1a/cc/4b0831f492396f03a4563cc749ad94cbf7af986aaa7a7d89e5979029ce5c/tensorflow_model_optimization-0.4.1-py2.py3-none-any.whl (172kB)\n",
            "\u001b[K     |████████████████████████████████| 174kB 51.9MB/s \n",
            "\u001b[?25hRequirement already satisfied: tensorflow-addons in /usr/local/lib/python3.6/dist-packages (from tf-models-nightly->tensorflow-examples[model_maker]) (0.8.3)\n",
            "Requirement already satisfied: kaggle>=1.3.9 in /usr/local/lib/python3.6/dist-packages (from tf-models-nightly->tensorflow-examples[model_maker]) (1.5.6)\n",
            "Requirement already satisfied: google-cloud-bigquery>=0.31.0 in /usr/local/lib/python3.6/dist-packages (from tf-models-nightly->tensorflow-examples[model_maker]) (1.21.0)\n",
            "Requirement already satisfied: requests>=2.19.0 in /usr/local/lib/python3.6/dist-packages (from tensorflow-datasets>=2.1.0->tensorflow-examples[model_maker]) (2.23.0)\n",
            "Requirement already satisfied: attrs>=18.1.0 in /usr/local/lib/python3.6/dist-packages (from tensorflow-datasets>=2.1.0->tensorflow-examples[model_maker]) (19.3.0)\n",
            "Requirement already satisfied: promise in /usr/local/lib/python3.6/dist-packages (from tensorflow-datasets>=2.1.0->tensorflow-examples[model_maker]) (2.3)\n",
            "Requirement already satisfied: tensorflow-metadata in /usr/local/lib/python3.6/dist-packages (from tensorflow-datasets>=2.1.0->tensorflow-examples[model_maker]) (0.22.2)\n",
            "Requirement already satisfied: tqdm in /usr/local/lib/python3.6/dist-packages (from tensorflow-datasets>=2.1.0->tensorflow-examples[model_maker]) (4.41.1)\n",
            "Requirement already satisfied: dill in /usr/local/lib/python3.6/dist-packages (from tensorflow-datasets>=2.1.0->tensorflow-examples[model_maker]) (0.3.2)\n",
            "Requirement already satisfied: future in /usr/local/lib/python3.6/dist-packages (from tensorflow-datasets>=2.1.0->tensorflow-examples[model_maker]) (0.16.0)\n",
            "Collecting pybind11>=2.4\n",
            "  Using cached https://files.pythonhosted.org/packages/89/e3/d576f6f02bc75bacbc3d42494e8f1d063c95617d86648dba243c2cb3963e/pybind11-2.5.0-py2.py3-none-any.whl\n",
            "Requirement already satisfied: setuptools in /usr/local/lib/python3.6/dist-packages (from protobuf>=3.9.2->tf-nightly->tensorflow-examples[model_maker]) (49.2.0)\n",
            "Requirement already satisfied: markdown>=2.6.8 in /usr/local/lib/python3.6/dist-packages (from tb-nightly<3.0.0a0,>=2.4.0a0->tf-nightly->tensorflow-examples[model_maker]) (3.2.2)\n",
            "Requirement already satisfied: google-auth<2,>=1.6.3 in /usr/local/lib/python3.6/dist-packages (from tb-nightly<3.0.0a0,>=2.4.0a0->tf-nightly->tensorflow-examples[model_maker]) (1.17.2)\n",
            "Requirement already satisfied: werkzeug>=0.11.15 in /usr/local/lib/python3.6/dist-packages (from tb-nightly<3.0.0a0,>=2.4.0a0->tf-nightly->tensorflow-examples[model_maker]) (1.0.1)\n",
            "Requirement already satisfied: tensorboard-plugin-wit>=1.6.0 in /usr/local/lib/python3.6/dist-packages (from tb-nightly<3.0.0a0,>=2.4.0a0->tf-nightly->tensorflow-examples[model_maker]) (1.7.0)\n",
            "Requirement already satisfied: google-auth-oauthlib<0.5,>=0.4.1 in /usr/local/lib/python3.6/dist-packages (from tb-nightly<3.0.0a0,>=2.4.0a0->tf-nightly->tensorflow-examples[model_maker]) (0.4.1)\n",
            "Requirement already satisfied: Keras>=2.2.4 in /usr/local/lib/python3.6/dist-packages (from seqeval->tf-models-nightly->tensorflow-examples[model_maker]) (2.4.3)\n",
            "Requirement already satisfied: pytz>=2017.2 in /usr/local/lib/python3.6/dist-packages (from pandas>=0.22.0->tf-models-nightly->tensorflow-examples[model_maker]) (2018.9)\n",
            "Requirement already satisfied: python-dateutil>=2.6.1 in /usr/local/lib/python3.6/dist-packages (from pandas>=0.22.0->tf-models-nightly->tensorflow-examples[model_maker]) (2.8.1)\n",
            "Requirement already satisfied: uritemplate<4dev,>=3.0.0 in /usr/local/lib/python3.6/dist-packages (from google-api-python-client>=1.6.7->tf-models-nightly->tensorflow-examples[model_maker]) (3.0.1)\n",
            "Requirement already satisfied: google-auth-httplib2>=0.0.3 in /usr/local/lib/python3.6/dist-packages (from google-api-python-client>=1.6.7->tf-models-nightly->tensorflow-examples[model_maker]) (0.0.4)\n",
            "Requirement already satisfied: httplib2<1dev,>=0.17.0 in /usr/local/lib/python3.6/dist-packages (from google-api-python-client>=1.6.7->tf-models-nightly->tensorflow-examples[model_maker]) (0.17.4)\n",
            "Requirement already satisfied: pyasn1-modules>=0.0.5 in /usr/local/lib/python3.6/dist-packages (from oauth2client->tf-models-nightly->tensorflow-examples[model_maker]) (0.2.8)\n",
            "Requirement already satisfied: rsa>=3.1.4 in /usr/local/lib/python3.6/dist-packages (from oauth2client->tf-models-nightly->tensorflow-examples[model_maker]) (4.6)\n",
            "Requirement already satisfied: pyasn1>=0.1.7 in /usr/local/lib/python3.6/dist-packages (from oauth2client->tf-models-nightly->tensorflow-examples[model_maker]) (0.4.8)\n",
            "Requirement already satisfied: cycler>=0.10 in /usr/local/lib/python3.6/dist-packages (from matplotlib->tf-models-nightly->tensorflow-examples[model_maker]) (0.10.0)\n",
            "Requirement already satisfied: pyparsing!=2.0.4,!=2.1.2,!=2.1.6,>=2.0.1 in /usr/local/lib/python3.6/dist-packages (from matplotlib->tf-models-nightly->tensorflow-examples[model_maker]) (2.4.7)\n",
            "Requirement already satisfied: kiwisolver>=1.0.1 in /usr/local/lib/python3.6/dist-packages (from matplotlib->tf-models-nightly->tensorflow-examples[model_maker]) (1.2.0)\n",
            "Requirement already satisfied: dm-tree~=0.1.1 in /usr/local/lib/python3.6/dist-packages (from tensorflow-model-optimization>=0.2.1->tf-models-nightly->tensorflow-examples[model_maker]) (0.1.5)\n",
            "Requirement already satisfied: typeguard in /usr/local/lib/python3.6/dist-packages (from tensorflow-addons->tf-models-nightly->tensorflow-examples[model_maker]) (2.7.1)\n",
            "Requirement already satisfied: urllib3<1.25,>=1.21.1 in /usr/local/lib/python3.6/dist-packages (from kaggle>=1.3.9->tf-models-nightly->tensorflow-examples[model_maker]) (1.24.3)\n",
            "Requirement already satisfied: certifi in /usr/local/lib/python3.6/dist-packages (from kaggle>=1.3.9->tf-models-nightly->tensorflow-examples[model_maker]) (2020.6.20)\n",
            "Requirement already satisfied: python-slugify in /usr/local/lib/python3.6/dist-packages (from kaggle>=1.3.9->tf-models-nightly->tensorflow-examples[model_maker]) (4.0.1)\n",
            "Requirement already satisfied: google-cloud-core<2.0dev,>=1.0.3 in /usr/local/lib/python3.6/dist-packages (from google-cloud-bigquery>=0.31.0->tf-models-nightly->tensorflow-examples[model_maker]) (1.0.3)\n",
            "Requirement already satisfied: google-resumable-media!=0.4.0,<0.5.0dev,>=0.3.1 in /usr/local/lib/python3.6/dist-packages (from google-cloud-bigquery>=0.31.0->tf-models-nightly->tensorflow-examples[model_maker]) (0.4.1)\n",
            "Requirement already satisfied: idna<3,>=2.5 in /usr/local/lib/python3.6/dist-packages (from requests>=2.19.0->tensorflow-datasets>=2.1.0->tensorflow-examples[model_maker]) (2.10)\n",
            "Requirement already satisfied: chardet<4,>=3.0.2 in /usr/local/lib/python3.6/dist-packages (from requests>=2.19.0->tensorflow-datasets>=2.1.0->tensorflow-examples[model_maker]) (3.0.4)\n",
            "Requirement already satisfied: googleapis-common-protos in /usr/local/lib/python3.6/dist-packages (from tensorflow-metadata->tensorflow-datasets>=2.1.0->tensorflow-examples[model_maker]) (1.52.0)\n",
            "Requirement already satisfied: importlib-metadata; python_version < \"3.8\" in /usr/local/lib/python3.6/dist-packages (from markdown>=2.6.8->tb-nightly<3.0.0a0,>=2.4.0a0->tf-nightly->tensorflow-examples[model_maker]) (1.7.0)\n",
            "Requirement already satisfied: cachetools<5.0,>=2.0.0 in /usr/local/lib/python3.6/dist-packages (from google-auth<2,>=1.6.3->tb-nightly<3.0.0a0,>=2.4.0a0->tf-nightly->tensorflow-examples[model_maker]) (4.1.1)\n",
            "Requirement already satisfied: requests-oauthlib>=0.7.0 in /usr/local/lib/python3.6/dist-packages (from google-auth-oauthlib<0.5,>=0.4.1->tb-nightly<3.0.0a0,>=2.4.0a0->tf-nightly->tensorflow-examples[model_maker]) (1.3.0)\n",
            "Requirement already satisfied: text-unidecode>=1.3 in /usr/local/lib/python3.6/dist-packages (from python-slugify->kaggle>=1.3.9->tf-models-nightly->tensorflow-examples[model_maker]) (1.3)\n",
            "Requirement already satisfied: google-api-core<2.0.0dev,>=1.14.0 in /usr/local/lib/python3.6/dist-packages (from google-cloud-core<2.0dev,>=1.0.3->google-cloud-bigquery>=0.31.0->tf-models-nightly->tensorflow-examples[model_maker]) (1.16.0)\n",
            "Requirement already satisfied: zipp>=0.5 in /usr/local/lib/python3.6/dist-packages (from importlib-metadata; python_version < \"3.8\"->markdown>=2.6.8->tb-nightly<3.0.0a0,>=2.4.0a0->tf-nightly->tensorflow-examples[model_maker]) (3.1.0)\n",
            "Requirement already satisfied: oauthlib>=3.0.0 in /usr/local/lib/python3.6/dist-packages (from requests-oauthlib>=0.7.0->google-auth-oauthlib<0.5,>=0.4.1->tb-nightly<3.0.0a0,>=2.4.0a0->tf-nightly->tensorflow-examples[model_maker]) (3.1.0)\n",
            "Building wheels for collected packages: tensorflow-examples, fire, tflite-support, seqeval, py-cpuinfo\n",
            "  Building wheel for tensorflow-examples (setup.py) ... \u001b[?25l\u001b[?25hdone\n",
            "  Created wheel for tensorflow-examples: filename=tensorflow_examples-b30a40f9416fc38cfa91ca03d835ba1fc432a824_-cp36-none-any.whl size=135418 sha256=443b8c3566192acb9541e6f6f16543593eda0cd44f7c71e88120f83f79457d61\n",
            "  Stored in directory: /tmp/pip-ephem-wheel-cache-cssn6d3e/wheels/e5/c4/a6/06536184521b8cea0638738f5b5dfced9327f83ba6e0b60c2b\n",
            "  Building wheel for fire (setup.py) ... \u001b[?25l\u001b[?25hdone\n",
            "  Created wheel for fire: filename=fire-0.3.1-py2.py3-none-any.whl size=111005 sha256=bdcbae7c3ff47446d418a3f09b5233a76ab7ba34677a006c1182f09295e0cbdc\n",
            "  Stored in directory: /root/.cache/pip/wheels/c1/61/df/768b03527bf006b546dce284eb4249b185669e65afc5fbb2ac\n",
            "  Building wheel for tflite-support (setup.py) ... \u001b[?25l\u001b[?25hdone\n",
            "  Created wheel for tflite-support: filename=tflite_support-0.1.0a0-cp36-cp36m-linux_x86_64.whl size=3943406 sha256=1cf2cfc3b939affc17d8876b80bc6292de0f2c2cb45b31166a5e55037eb26ce0\n",
            "  Stored in directory: /root/.cache/pip/wheels/89/81/fc/1ef289a70fd244f257618bd273b4f29d035715cfe7e74e2ecc\n",
            "  Building wheel for seqeval (setup.py) ... \u001b[?25l\u001b[?25hdone\n",
            "  Created wheel for seqeval: filename=seqeval-0.0.12-cp36-none-any.whl size=7424 sha256=0493aa920c8279e9f3d146a3143ae1233e2394566d79bbee031a0fd4bc38d9c1\n",
            "  Stored in directory: /root/.cache/pip/wheels/4f/32/0a/df3b340a82583566975377d65e724895b3fad101a3fb729f68\n",
            "  Building wheel for py-cpuinfo (setup.py) ... \u001b[?25l\u001b[?25hdone\n",
            "  Created wheel for py-cpuinfo: filename=py_cpuinfo-7.0.0-cp36-none-any.whl size=20069 sha256=1bd83f1d396f8a9cf24e4ba61fdd38e64c9019a077896ffb0f38004a71d24f3c\n",
            "  Stored in directory: /root/.cache/pip/wheels/f1/93/7b/127daf0c3a5a49feb2fecd468d508067c733fba5192f726ad1\n",
            "Successfully built tensorflow-examples fire tflite-support seqeval py-cpuinfo\n",
            "Installing collected packages: flatbuffers, tf-estimator-nightly, tb-nightly, tf-nightly, seqeval, sentencepiece, tf-slim, py-cpuinfo, opencv-python-headless, tensorflow-model-optimization, tf-models-nightly, fire, pybind11, tflite-support, tensorflow-examples\n",
            "Successfully installed fire-0.3.1 flatbuffers-1.12 opencv-python-headless-4.4.0.40 py-cpuinfo-7.0.0 pybind11-2.5.0 sentencepiece-0.1.91 seqeval-0.0.12 tb-nightly-2.4.0a20200814 tensorflow-examples-b30a40f9416fc38cfa91ca03d835ba1fc432a824- tensorflow-model-optimization-0.4.1 tf-estimator-nightly-2.4.0.dev2020081401 tf-models-nightly-2.3.0.dev20200814 tf-nightly-2.4.0.dev20200813 tf-slim-1.1.0 tflite-support-0.1.0a0\n"
          ],
          "name": "stdout"
        }
      ]
    },
    {
      "cell_type": "markdown",
      "metadata": {
        "id": "B1c_NY_kDI8u",
        "colab_type": "text"
      },
      "source": [
        "## Importamos, descargamos y descomprimos\n",
        "\n",
        "\n",
        "\n",
        "Necesitamos importar la libreria que acabamos de descargar de github al Colab "
      ]
    },
    {
      "cell_type": "code",
      "metadata": {
        "id": "NO4cDaDBdoi_",
        "colab_type": "code",
        "colab": {}
      },
      "source": [
        "import numpy as np\n",
        "\n",
        "import tensorflow as tf\n",
        "assert tf.__version__.startswith('2')\n",
        "\n",
        "from tensorflow_examples.lite.model_maker.core.data_util.image_dataloader import ImageClassifierDataLoader\n",
        "from tensorflow_examples.lite.model_maker.core.task import image_classifier\n",
        "from tensorflow_examples.lite.model_maker.core.task.model_spec import mobilenet_v2_spec\n",
        "from tensorflow_examples.lite.model_maker.core.task.model_spec import ImageModelSpec\n",
        "\n",
        "import matplotlib.pyplot as plt"
      ],
      "execution_count": null,
      "outputs": []
    },
    {
      "cell_type": "markdown",
      "metadata": {
        "id": "PnHq4jbPDZfF",
        "colab_type": "text"
      },
      "source": [
        "Para comenzar a entrenar nuestro reconocerdor de flores debemos descargar la carpeta de imagenes de nuestras flores, primero nos descargará una carpeta comprimida con terminación de `.tgz` que tendremos que descomprimir desde nuestra computadora y después subir la carpeta de imagenes nuevamente a colab\n",
        "\n",
        "\n",
        "\n"
      ]
    },
    {
      "cell_type": "code",
      "metadata": {
        "id": "6_OWctg5DYyH",
        "colab_type": "code",
        "colab": {}
      },
      "source": [
        "image_path = tf.keras.utils.get_file(\n",
        "      'flower_photos',\n",
        "      'https://storage.googleapis.com/download.tensorflow.org/example_images/flower_photos.tgz',\n",
        "      untar=True)"
      ],
      "execution_count": null,
      "outputs": []
    },
    {
      "cell_type": "markdown",
      "metadata": {
        "id": "QTPQJq0UEdDa",
        "colab_type": "text"
      },
      "source": [
        "Sin embargo es importante que al momento de subir nuestra carpeta descomprimida volvamos a comprimirla en un zip con el sieguiente comando:"
      ]
    },
    {
      "cell_type": "code",
      "metadata": {
        "id": "R8Yx4X0QErAz",
        "colab_type": "code",
        "colab": {}
      },
      "source": [
        "!tar -xf flower_photos.zip"
      ],
      "execution_count": null,
      "outputs": []
    },
    {
      "cell_type": "markdown",
      "metadata": {
        "id": "sN-e2jG8FYMM",
        "colab_type": "text"
      },
      "source": [
        "Corremos cuatro de lineas de código que nos ayudará a entrenar y preparar nuestro modelo"
      ]
    },
    {
      "cell_type": "markdown",
      "metadata": {
        "id": "uJvrKOZJFxJt",
        "colab_type": "text"
      },
      "source": [
        "\n",
        "\n",
        "---\n",
        "1. Entrenamos y testeamos nuestro modelo\n"
      ]
    },
    {
      "cell_type": "code",
      "metadata": {
        "id": "7JIjDRFFFs9n",
        "colab_type": "code",
        "colab": {}
      },
      "source": [
        "data = ImageClassifierDataLoader.from_folder(image_path)\n",
        "train_data, test_data = data.split(0.9)"
      ],
      "execution_count": null,
      "outputs": []
    },
    {
      "cell_type": "markdown",
      "metadata": {
        "id": "NjPb5-DZF4sO",
        "colab_type": "text"
      },
      "source": [
        " 2. Personaliza el modelo de tensor flow ya entrenado"
      ]
    },
    {
      "cell_type": "code",
      "metadata": {
        "id": "sq1DdC5jGI5n",
        "colab_type": "code",
        "colab": {}
      },
      "source": [
        "model = image_classifier.create(train_data)"
      ],
      "execution_count": null,
      "outputs": []
    },
    {
      "cell_type": "markdown",
      "metadata": {
        "id": "P2akuGJtGUqw",
        "colab_type": "text"
      },
      "source": [
        "3. Evalua tu modelo"
      ]
    },
    {
      "cell_type": "code",
      "metadata": {
        "id": "bj5j3LjyGXG5",
        "colab_type": "code",
        "colab": {}
      },
      "source": [
        "loss, accuracy = model.evaluate(test_data)"
      ],
      "execution_count": null,
      "outputs": []
    },
    {
      "cell_type": "markdown",
      "metadata": {
        "id": "rE_AWBjQGcGI",
        "colab_type": "text"
      },
      "source": [
        "4. Exporta a TensorFlow tu modelo.\n",
        "\n",
        "Tendrás que descargarlo desde las barra de carpetas y posteriormente abrirlo en Android Studio"
      ]
    },
    {
      "cell_type": "code",
      "metadata": {
        "id": "ipPx0i07HA3E",
        "colab_type": "code",
        "colab": {}
      },
      "source": [
        "model.export(export_dir='.', with_metadata=True)"
      ],
      "execution_count": null,
      "outputs": []
    },
    {
      "cell_type": "markdown",
      "metadata": {
        "id": "0Om2z-s3HCx1",
        "colab_type": "text"
      },
      "source": [
        "### **Ve a Android Studio**\n",
        "\n",
        "En la terminal de Android Studio clona el repositorio de GitHub de TensorFlow"
      ]
    },
    {
      "cell_type": "code",
      "metadata": {
        "id": "OPdqOwTOHkvf",
        "colab_type": "code",
        "colab": {}
      },
      "source": [
        "git clone https://github.com/tensorflow/examples.git"
      ],
      "execution_count": null,
      "outputs": []
    },
    {
      "cell_type": "markdown",
      "metadata": {
        "id": "fUBZ3jROHoDv",
        "colab_type": "text"
      },
      "source": [
        "Te saldra una carpeta con el nombre de examples, es importante que trabajemos sobre ella. \n",
        "\n",
        "La dirección con la que empezaremos a usar nuestro modelo de tensor flox sera en esta:"
      ]
    },
    {
      "cell_type": "code",
      "metadata": {
        "id": "d9PlVg24Hu6X",
        "colab_type": "code",
        "colab": {}
      },
      "source": [
        "examples/lite/codelabs/flower_classification/start"
      ],
      "execution_count": null,
      "outputs": []
    },
    {
      "cell_type": "markdown",
      "metadata": {
        "id": "C2tRf0kpH__I",
        "colab_type": "text"
      },
      "source": [
        "Ve a la carpeta **Build.gradle** y dentro del bloque de ***dependencias*** copia el siguiente código, que te ayudará a implementar dependendicias de TensorFlow a la app"
      ]
    },
    {
      "cell_type": "code",
      "metadata": {
        "id": "JueW8yMdIhz0",
        "colab_type": "code",
        "colab": {}
      },
      "source": [
        "implementation('org.tensorflow:tensorflow-lite:0.0.0-nightly') { changing = true }\n",
        "implementation('org.tensorflow:tensorflow-lite-gpu:0.0.0-nightly') { changing = true }\n",
        "implementation('org.tensorflow:tensorflow-lite-support:0.0.0-nightly') { changing = true }"
      ],
      "execution_count": null,
      "outputs": []
    },
    {
      "cell_type": "markdown",
      "metadata": {
        "id": "ffcqI66IIzu2",
        "colab_type": "text"
      },
      "source": [
        "Ahora, dentro del bloque de ***android***  debemos  copiar la siguiente línea de código que nos ayudara a prevenir que los archivos del modelo de TensorFlow se amontonen, después damos clic a \"Sync Nox\""
      ]
    },
    {
      "cell_type": "code",
      "metadata": {
        "id": "wUJF7sfMHm6e",
        "colab_type": "code",
        "colab": {}
      },
      "source": [
        "aaptOptions {\n",
        "  noCompress \"tflite\"\n",
        "}"
      ],
      "execution_count": null,
      "outputs": []
    },
    {
      "cell_type": "markdown",
      "metadata": {
        "id": "g-zNA6RqAttq",
        "colab_type": "text"
      },
      "source": [
        ""
      ]
    }
  ]
}